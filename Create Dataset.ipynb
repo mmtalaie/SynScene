{
 "cells": [
  {
   "cell_type": "code",
   "execution_count": 1,
   "metadata": {},
   "outputs": [],
   "source": [
    "from PIL import Image, ImageDraw, ImageFont, ImageFilter\n",
    "import textwrap\n",
    "import os"
   ]
  },
  {
   "cell_type": "code",
   "execution_count": 69,
   "metadata": {},
   "outputs": [],
   "source": [
    "backGroundColor=(255,255,255,0)\n",
    "image = Image.new('RGBA', (50,100),backGroundColor)\n",
    "draw = ImageDraw.Draw(image)"
   ]
  },
  {
   "cell_type": "code",
   "execution_count": 70,
   "metadata": {},
   "outputs": [],
   "source": [
    "xPos = 10\n",
    "yPos = 5"
   ]
  },
  {
   "cell_type": "code",
   "execution_count": 71,
   "metadata": {},
   "outputs": [],
   "source": [
    "text = 'سلام'\n",
    "wrapped = textwrap.fill(text, 100)\n",
    "fontColor=(0,0,0,120)"
   ]
  },
  {
   "cell_type": "code",
   "execution_count": 72,
   "metadata": {},
   "outputs": [],
   "source": [
    "unicodeFont = ImageFont.truetype(\"./fonts/IranNastaliq.ttf\", 20)"
   ]
  },
  {
   "cell_type": "code",
   "execution_count": 73,
   "metadata": {},
   "outputs": [],
   "source": [
    "draw.text((xPos,yPos), wrapped, spacing=30, font = unicodeFont, fill = fontColor, direction = 'rtl', align='left')"
   ]
  },
  {
   "cell_type": "code",
   "execution_count": 79,
   "metadata": {},
   "outputs": [],
   "source": [
    "image.save('1.png')\n"
   ]
  },
  {
   "cell_type": "code",
   "execution_count": 75,
   "metadata": {},
   "outputs": [],
   "source": [
    "bbox = image.getbbox()"
   ]
  },
  {
   "cell_type": "code",
   "execution_count": 76,
   "metadata": {},
   "outputs": [],
   "source": [
    "import sys\n",
    "\n",
    "def autocrop_image(image, border = 0):\n",
    "    # Get the bounding box\n",
    "    bbox = image.getbbox()\n",
    "\n",
    "    # Crop the image to the contents of the bounding box\n",
    "    image = image.crop(bbox)\n",
    "\n",
    "    # Determine the width and height of the cropped image\n",
    "    (width, height) = image.size\n",
    "\n",
    "    # Add border\n",
    "    width += border * 2\n",
    "    height += border * 2\n",
    "    \n",
    "    # Create a new image object for the output image\n",
    "    cropped_image = Image.new(\"RGBA\", (width, height), (0,0,0,0))\n",
    "\n",
    "    # Paste the cropped image onto the new image\n",
    "    cropped_image.paste(image, (border, border))\n",
    "\n",
    "    # Done!\n",
    "    return cropped_image\n",
    "    \n",
    "if len(sys.argv) < 3:\n",
    "    # Not enough arguments -- show usage information and exit\n",
    "    print (\"Usage: \" + sys.argv[0] + \" infile outfile [border]\")\n",
    "    exit(1)"
   ]
  },
  {
   "cell_type": "code",
   "execution_count": 77,
   "metadata": {},
   "outputs": [],
   "source": [
    "image = autocrop_image(image)"
   ]
  },
  {
   "cell_type": "code",
   "execution_count": 78,
   "metadata": {},
   "outputs": [
    {
     "data": {
      "image/png": "[encoded data removed]",
      "text/plain": [
       "<PIL.Image.Image image mode=RGBA size=50x100 at 0x7F87735BD580>"
      ]
     },
     "execution_count": 78,
     "metadata": {},
     "output_type": "execute_result"
    }
   ],
   "source": [
    "image"
   ]
  },
  {
   "cell_type": "code",
   "execution_count": null,
   "metadata": {},
   "outputs": [],
   "source": []
  }
 ],
 "metadata": {
  "kernelspec": {
   "display_name": "Python 3",
   "language": "python",
   "name": "python3"
  },
  "language_info": {
   "codemirror_mode": {
    "name": "ipython",
    "version": 3
   },
   "file_extension": ".py",
   "mimetype": "text/x-python",
   "name": "python",
   "nbconvert_exporter": "python",
   "pygments_lexer": "ipython3",
   "version": "3.8.5"
  }
 },
 "nbformat": 4,
 "nbformat_minor": 4
}
