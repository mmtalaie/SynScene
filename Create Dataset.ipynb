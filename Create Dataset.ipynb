{
 "cells": [
  {
   "cell_type": "code",
   "execution_count": null,
   "metadata": {},
   "outputs": [],
   "source": [
    "from PIL import Image, ImageDraw, ImageFont, ImageFilter\n",
    "import textwrap\n",
    "import numpy as np\n",
    "import cv2\n",
    "import os"
   ]
  },
  {
   "cell_type": "code",
   "execution_count": null,
   "metadata": {},
   "outputs": [],
   "source": [
    "backgroundColor=(255,255,255,0)\n",
    "image = Image.new('RGBA', (1000,1000),backGroundColor)\n",
    "draw = ImageDraw.Draw(image)"
   ]
  },
  {
   "cell_type": "code",
   "execution_count": null,
   "metadata": {},
   "outputs": [],
   "source": [
    "\n",
    "xPos = 100\n",
    "yPos = 100"
   ]
  },
  {
   "cell_type": "code",
   "execution_count": null,
   "metadata": {},
   "outputs": [],
   "source": [
    "text = ' سلام خوبی چه خبر '\n",
    "wrapped = textwrap.fill(text)\n",
    "fontColor=(0,0,0,125)"
   ]
  },
  {
   "cell_type": "code",
   "execution_count": null,
   "metadata": {},
   "outputs": [],
   "source": [
    "unicodeFont = ImageFont.truetype(\"./fonts/IranNastaliq.ttf\", 150)"
   ]
  },
  {
   "cell_type": "code",
   "execution_count": null,
   "metadata": {},
   "outputs": [],
   "source": [
    "draw.text((xPos,yPos), wrapped, spacing=30, font = unicodeFont, fill = fontColor, direction = 'rtl', align='left')"
   ]
  },
  {
   "cell_type": "code",
   "execution_count": null,
   "metadata": {},
   "outputs": [],
   "source": [
    "image.save('1.png')\n"
   ]
  },
  {
   "cell_type": "code",
   "execution_count": null,
   "metadata": {},
   "outputs": [],
   "source": [
    "width , height = image.size\n",
    "startX = width\n",
    "endX = 0\n",
    "startY = height\n",
    "endY = 0\n",
    "for i in range(0, width):\n",
    "    for j in range(0, height):\n",
    "        r,g,b,a  =  image.getpixel((i,j))\n",
    "        if(a > 0):\n",
    "            if(i < startX):\n",
    "               startX = i\n",
    "            if(j < startY):\n",
    "                startY = j\n",
    "            if(i > endX):\n",
    "                endX = i\n",
    "            if(j > endY):\n",
    "                endY = j\n",
    "\n",
    "\n"
   ]
  },
  {
   "cell_type": "code",
   "execution_count": null,
   "metadata": {},
   "outputs": [],
   "source": [
    "bbox = (startX , startY, endX, endY)\n",
    "bbox"
   ]
  },
  {
   "cell_type": "code",
   "execution_count": null,
   "metadata": {},
   "outputs": [],
   "source": []
  },
  {
   "cell_type": "code",
   "execution_count": null,
   "metadata": {},
   "outputs": [],
   "source": [
    "import sys\n",
    "\n",
    "def autocrop_image(image, bondigBox ,border = 0):\n",
    "    # Get the bounding box\n",
    "    # bbox = image.getbbox()\n",
    "\n",
    "    # Crop the image to the contents of the bounding box\n",
    "    image = image.crop(bondigBox)\n",
    "\n",
    "    # Determine the width and height of the cropped image\n",
    "    (width, height) = image.size\n",
    "\n",
    "    # Add border\n",
    "    width += border * 2\n",
    "    height += border * 2\n",
    "    \n",
    "    # Create a new image object for the output image\n",
    "    cropped_image = Image.new(\"RGBA\", (width, height), (0,0,0,0))\n",
    "\n",
    "    # Paste the cropped image onto the new image\n",
    "    cropped_image.paste(image, (border, border))\n",
    "\n",
    "    # Done!\n",
    "    return cropped_image\n",
    "    \n",
    "if len(sys.argv) < 3:\n",
    "    # Not enough arguments -- show usage information and exit\n",
    "    print (\"Usage: \" + sys.argv[0] + \" infile outfile [border]\")\n",
    "    exit(1)"
   ]
  },
  {
   "cell_type": "code",
   "execution_count": null,
   "metadata": {},
   "outputs": [],
   "source": [
    "img = autocrop_image(image, bbox)"
   ]
  },
  {
   "cell_type": "code",
   "execution_count": null,
   "metadata": {},
   "outputs": [],
   "source": [
    "\n",
    "image"
   ]
  },
  {
   "cell_type": "code",
   "execution_count": null,
   "metadata": {},
   "outputs": [],
   "source": [
    "background = Image.open('./Image/image file.jpg').convert(\"RGBA\")"
   ]
  },
  {
   "cell_type": "code",
   "execution_count": null,
   "metadata": {},
   "outputs": [],
   "source": [
    "background"
   ]
  },
  {
   "source": [
    "#backGrownd.paste(image, (0,0),image)\n",
    "background.convert('RGBA')\n",
    "img.convert('RGBA')"
   ],
   "cell_type": "code",
   "metadata": {},
   "execution_count": null,
   "outputs": []
  },
  {
   "cell_type": "code",
   "execution_count": null,
   "metadata": {},
   "outputs": [],
   "source": [
    "backGroundColor=(255,255,255,0)\n",
    "foreground = Image.new('RGBA', background.size,backGroundColor)\n",
    "foreground.paste(img)\n",
    "dest = Image.alpha_composite(background, foreground)\n",
    "background.paste(img,mask=img)"
   ]
  },
  {
   "cell_type": "code",
   "execution_count": null,
   "metadata": {},
   "outputs": [],
   "source": [
    "dest"
   ]
  },
  {
   "cell_type": "code",
   "execution_count": null,
   "metadata": {},
   "outputs": [],
   "source": [
    "dest.save('2.png')"
   ]
  },
  {
   "cell_type": "code",
   "execution_count": null,
   "metadata": {},
   "outputs": [],
   "source": [
    "dest"
   ]
  },
  {
   "cell_type": "code",
   "execution_count": null,
   "metadata": {},
   "outputs": [],
   "source": [
    "\n",
    "background"
   ]
  },
  {
   "cell_type": "code",
   "execution_count": null,
   "metadata": {},
   "outputs": [],
   "source": [
    "width , height = dest.size\n",
    "pixels = dest.load()\n",
    "for i in range(0, width):\n",
    "    for j in range(0, height):\n",
    "        r,g,b,a  =  dest.getpixel((i,j))\n",
    "        pixels[i,j] = (r, g, b, 255)\n",
    "\n",
    "dest.save(\"3.png\")\n",
    "\n"
   ]
  },
  {
   "cell_type": "code",
   "execution_count": null,
   "metadata": {},
   "outputs": [],
   "source": [
    "pixels[1,2]\n",
    "\n"
   ]
  },
  {
   "cell_type": "code",
   "execution_count": null,
   "metadata": {},
   "outputs": [],
   "source": [
    "dest"
   ]
  },
  {
   "cell_type": "code",
   "execution_count": 1,
   "metadata": {},
   "outputs": [],
   "source": [
    "from TextGrapher import *\n"
   ]
  },
  {
   "cell_type": "code",
   "execution_count": 23,
   "metadata": {},
   "outputs": [
    {
     "output_type": "stream",
     "name": "stdout",
     "text": [
      "text opacity = 247\n"
     ]
    },
    {
     "output_type": "execute_result",
     "data": {
      "text/plain": [
       "<PIL.Image.Image image mode=RGBA size=87x53 at 0x7F1D863F63A0>"
      ],
      "image/png": "[encoded data removed]"
     },
     "metadata": {},
     "execution_count": 23
    }
   ],
   "source": [
    "textG = TextGrapher()\n",
    "textG.produceTextImage(\"منم\")"
   ]
  },
  {
   "cell_type": "code",
   "execution_count": 26,
   "metadata": {},
   "outputs": [
    {
     "output_type": "stream",
     "name": "stdout",
     "text": [
      "['IranNastaliq.ttf', 'DaneshBold.ttf', 'Danesh.ttf', 'DaneshBoldItalic.ttf', 'BNazanin.ttf', 'DaneshItalic.ttf']\n"
     ]
    }
   ],
   "source": [
    "import os\n",
    "\n",
    "files = os.listdir('fonts/')\n",
    "print(files)"
   ]
  },
  {
   "cell_type": "code",
   "execution_count": null,
   "metadata": {},
   "outputs": [],
   "source": []
  }
 ],
 "metadata": {
  "kernelspec": {
   "display_name": "Python 3.8.5 64-bit",
   "language": "python",
   "name": "python38564bit0b783e70c1d34fe18e0d1cde8209ad15"
  },
  "language_info": {
   "codemirror_mode": {
    "name": "ipython",
    "version": 3
   },
   "file_extension": ".py",
   "mimetype": "text/x-python",
   "name": "python",
   "nbconvert_exporter": "python",
   "pygments_lexer": "ipython3",
   "version": "3.8.5-final"
  }
 },
 "nbformat": 4,
 "nbformat_minor": 4
}